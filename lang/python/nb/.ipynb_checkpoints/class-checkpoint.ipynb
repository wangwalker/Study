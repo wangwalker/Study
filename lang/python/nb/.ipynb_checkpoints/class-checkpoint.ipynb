{
 "cells": [
  {
   "cell_type": "markdown",
   "id": "beneficial-absence",
   "metadata": {},
   "source": [
    "# 1 面向对象\n",
    "\n",
    "## 1.1 基本用法\n",
    "\n",
    "面向对象编程是构建复杂软件系统必不可少的编程范式，他有四大特性：**抽象、封装、继承和多态**。在Python中，面向对象同样是基设施。\n",
    "\n",
    "```python\n",
    "class Document():\n",
    "    def __init__(self, title, author, context):\n",
    "        print('init function called')\n",
    "        self.title = title\n",
    "        self.author = author\n",
    "        self.__context = context # __开头的属性是私有属性\n",
    "\n",
    "    def get_context_length(self):\n",
    "        return len(self.__context)\n",
    "\n",
    "    def intercept_context(self, length):\n",
    "        self.__context = self.__context[:length]\n",
    "```\n",
    "\n",
    "这就是面向对象基本的语法，`__init__`是类的初始化方法，它的第一个参数永远是`self`，后面接其他属性。"
   ]
  },
  {
   "cell_type": "code",
   "execution_count": 1,
   "id": "brown-berlin",
   "metadata": {},
   "outputs": [
    {
     "name": "stdout",
     "output_type": "stream",
     "text": [
      "init function called\n",
      "Harry Potter\n",
      "J. K. Rowling\n",
      "77\n",
      "10\n"
     ]
    },
    {
     "ename": "AttributeError",
     "evalue": "'Document' object has no attribute '__context'",
     "output_type": "error",
     "traceback": [
      "\u001b[0;31m---------------------------------------------------------------------------\u001b[0m",
      "\u001b[0;31mAttributeError\u001b[0m                            Traceback (most recent call last)",
      "\u001b[0;32m<ipython-input-1-67a3d941fe92>\u001b[0m in \u001b[0;36m<module>\u001b[0;34m\u001b[0m\n\u001b[1;32m     24\u001b[0m \u001b[0mprint\u001b[0m\u001b[0;34m(\u001b[0m\u001b[0mharry_potter_book\u001b[0m\u001b[0;34m.\u001b[0m\u001b[0mget_context_length\u001b[0m\u001b[0;34m(\u001b[0m\u001b[0;34m)\u001b[0m\u001b[0;34m)\u001b[0m\u001b[0;34m\u001b[0m\u001b[0;34m\u001b[0m\u001b[0m\n\u001b[1;32m     25\u001b[0m \u001b[0;34m\u001b[0m\u001b[0m\n\u001b[0;32m---> 26\u001b[0;31m \u001b[0mprint\u001b[0m\u001b[0;34m(\u001b[0m\u001b[0mharry_potter_book\u001b[0m\u001b[0;34m.\u001b[0m\u001b[0m__context\u001b[0m\u001b[0;34m)\u001b[0m \u001b[0;31m# 将会报错AttributeError，因为__context是私有属性\u001b[0m\u001b[0;34m\u001b[0m\u001b[0;34m\u001b[0m\u001b[0m\n\u001b[0m",
      "\u001b[0;31mAttributeError\u001b[0m: 'Document' object has no attribute '__context'"
     ]
    }
   ],
   "source": [
    "class Document():\n",
    "    def __init__(self, title, author, context):\n",
    "        print('init function called')\n",
    "        self.title = title\n",
    "        self.author = author\n",
    "        self.__context = context # __开头的属性是私有属性\n",
    "\n",
    "    def get_context_length(self):\n",
    "        return len(self.__context)\n",
    "\n",
    "    def intercept_context(self, length):\n",
    "        self.__context = self.__context[:length]\n",
    "        \n",
    "harry_potter_book = Document('Harry Potter', \n",
    "                             'J. K. Rowling', \n",
    "                             '... Forever Do not believe any thing is capable of thinking independently ...')\n",
    "\n",
    "print(harry_potter_book.title)\n",
    "print(harry_potter_book.author)\n",
    "print(harry_potter_book.get_context_length())\n",
    "\n",
    "harry_potter_book.intercept_context(10)\n",
    "\n",
    "print(harry_potter_book.get_context_length())\n",
    "\n",
    "print(harry_potter_book.__context) # 将会报错AttributeError，因为__context是私有属性"
   ]
  },
  {
   "cell_type": "markdown",
   "id": "czech-child",
   "metadata": {},
   "source": [
    "## 1.2 @classmethod @staticmethod\n",
    "\n",
    "类函方法`@classmethod`和成员方法类似，都和类自身有一定的关系，前者第一个参数是`cls`，后者第一个参数是`self`，类函数最大的使用场景是提供不同的初始化方法。\n",
    "\n",
    "静态方法`@staticmethod`和普通的函数没有区别，不需要传入实例和类，主要为了组织代码，比如配置一些环境变量，修改其他类的属性等。\n",
    "\n",
    "```python\n",
    "class A(object):\n",
    "    def foo(self, x):\n",
    "        print \"executing foo(%s, %s)\" % (self, x)\n",
    "\n",
    "    @classmethod\n",
    "    def class_foo(cls, x):\n",
    "        print \"executing class_foo(%s, %s)\" % (cls, x)\n",
    "\n",
    "    @staticmethod\n",
    "    def static_foo(x):\n",
    "        print \"executing static_foo(%s)\" % x    \n",
    "\n",
    "a = A()\n",
    "```\n",
    "\n",
    "在Python中，一般约定用大写字母表示常量，在类中也是这样，我们可以在类中使用 `self.WELCOME_STR` ，或者在类外使用 `Document.WELCOME_STR` ，来表达这个字符串。\n",
    "\n"
   ]
  },
  {
   "cell_type": "code",
   "execution_count": 2,
   "id": "banned-journal",
   "metadata": {},
   "outputs": [
    {
     "name": "stdout",
     "output_type": "stream",
     "text": [
      "executing foo <__main__.A object at 0x1032c8a60>, 10)\n",
      "executing class_foo <class '__main__.A'>, 11\n",
      "executing class_foo <class '__main__.A'>, 12\n",
      "executing static_foo 21\n",
      "executing static_foo 22\n"
     ]
    }
   ],
   "source": [
    "class A(object):\n",
    "    def foo(self, x):\n",
    "        print(\"executing foo {}, {})\".format(self, x))\n",
    "\n",
    "    @classmethod\n",
    "    def class_foo(cls, x):\n",
    "        print(\"executing class_foo {}, {}\".format(cls, x))\n",
    "\n",
    "    @staticmethod\n",
    "    def static_foo(x):\n",
    "        print(\"executing static_foo {}\".format(x))\n",
    "\n",
    "a = A()\n",
    "\n",
    "a.foo(10)\n",
    "\n",
    "A.class_foo(11)\n",
    "a.class_foo(12) # 这种方式将a的类对象隐式传入\n",
    "\n",
    "A.static_foo(21)\n",
    "a.static_foo(22)"
   ]
  },
  {
   "cell_type": "markdown",
   "id": "temporal-boring",
   "metadata": {},
   "source": [
    "## 1.3 元类metaclass\n",
    "\n",
    "meta-class的meta这个词根，起源于希腊语词汇meta，包含下面两种意思：\n",
    "\n",
    "1. “Beyond”，例如技术词汇metadata，意思是描述数据的超越数据；\n",
    "2. “Change”，例如技术词汇metamorphosis，意思是改变的形态。"
   ]
  },
  {
   "cell_type": "code",
   "execution_count": 24,
   "id": "editorial-stage",
   "metadata": {},
   "outputs": [],
   "source": [
    "# Python 2/3 相同部分\n",
    "\n",
    "class Loader(object):\n",
    "    pass\n",
    "\n",
    "class YAMLObjectMetaclass(type):\n",
    "  def __init__(cls, name, bases, kwds):\n",
    "    super(YAMLObjectMetaclass, cls).__init__(name, bases, kwds)\n",
    "    if 'yaml_tag' in kwds and kwds['yaml_tag'] is not None:\n",
    "      cls.yaml_loader.add_constructor(cls.yaml_tag, cls.from_yaml)\n",
    "  # 省略其余定义\n",
    "\n",
    "# Python 3\n",
    "class YAMLObject(metaclass=YAMLObjectMetaclass):\n",
    "  yaml_loader = Loader\n",
    "  # 省略其余定义\n",
    "\n",
    "# Python 2\n",
    "class YAMLObject(object):\n",
    "  __metaclass__ = YAMLObjectMetaclass\n",
    "  yaml_loader = Loader\n",
    "  # 省略其余定义"
   ]
  },
  {
   "cell_type": "code",
   "execution_count": 27,
   "id": "related-polls",
   "metadata": {},
   "outputs": [
    {
     "name": "stdout",
     "output_type": "stream",
     "text": [
      "{'a': 1, 'b': {'c': 2, 'd': 3}}\n"
     ]
    },
    {
     "data": {
      "text/plain": [
       "'a: 1\\nb:\\n  c: 2\\n  d: 3\\n'"
      ]
     },
     "execution_count": 27,
     "metadata": {},
     "output_type": "execute_result"
    }
   ],
   "source": [
    "import yaml\n",
    "\n",
    "document = \"\"\"\n",
    "    a: 1\n",
    "    b:\n",
    "        c: 2\n",
    "        d: 3\n",
    "\"\"\"\n",
    "print(yaml.safe_load(document))\n",
    "\n",
    "yaml.safe_dump(yaml.safe_load(document))"
   ]
  },
  {
   "cell_type": "code",
   "execution_count": 28,
   "id": "virtual-indication",
   "metadata": {},
   "outputs": [
    {
     "data": {
      "text/plain": [
       "Monster(name='Walker', hp=[2, 3], ac=32.23, attacks=['Ac', 'Df'])"
      ]
     },
     "execution_count": 28,
     "metadata": {},
     "output_type": "execute_result"
    }
   ],
   "source": [
    "class Monster(yaml.YAMLObject):\n",
    "  yaml_tag = u'!Monster'\n",
    "  def __init__(self, name, hp, ac, attacks):\n",
    "    self.name = name\n",
    "    self.hp = hp\n",
    "    self.ac = ac\n",
    "    self.attacks = attacks\n",
    "  def __repr__(self):\n",
    "    return \"%s(name=%r, hp=%r, ac=%r, attacks=%r)\" % (\n",
    "       self.__class__.__name__, self.name, self.hp, self.ac,      \n",
    "       self.attacks)\n",
    "\n",
    "yaml.full_load(\"\"\"\n",
    "!Monster\n",
    "name: Walker\n",
    "hp: [2,3]\n",
    "ac: 32.23\n",
    "attacks: [Ac, Df]\n",
    "\"\"\")"
   ]
  },
  {
   "cell_type": "code",
   "execution_count": null,
   "id": "balanced-characterization",
   "metadata": {},
   "outputs": [],
   "source": []
  },
  {
   "cell_type": "markdown",
   "id": "aboriginal-proxy",
   "metadata": {},
   "source": [
    "# 2 对象比较\n",
    "## 2.1 等值测试\n",
    "\n",
    "在Python中，对象的比较有两种方式，即`==` 和 `is`，它们之间的区别是：\n",
    "- ==，对象的值之间的比较，不同类型之间比较设计重载，效率会降低；\n",
    "- is，对象标识之间的比较，也就是内存地址，通过`id(obj)`获取标识，效率高。\n",
    "\n",
    "在实际工作中，前者的使用频率高于后者，因为我们更加关心变量的值是否相同。但是，在某些情况下，后者也常常会被使用，就是对None的判断。\n",
    "\n",
    "```python\n",
    "if a is None:\n",
    "      ...\n",
    "\n",
    "if a is not None:\n",
    "      ...\n",
    "```"
   ]
  },
  {
   "cell_type": "code",
   "execution_count": 8,
   "id": "respected-healthcare",
   "metadata": {},
   "outputs": [
    {
     "name": "stdout",
     "output_type": "stream",
     "text": [
      "True\n",
      "True\n",
      "True\n",
      "False\n"
     ]
    }
   ],
   "source": [
    "int_10 = 10\n",
    "another_int_10 = 10\n",
    "print(int_10 == another_int_10)\n",
    "print(int_10 is another_int_10)\n",
    "\n",
    "int_1000 = 1000\n",
    "another_int_1000 = 1000\n",
    "print(int_1000 == another_int_1000)\n",
    "print(int_1000 is another_int_1000)"
   ]
  },
  {
   "cell_type": "markdown",
   "id": "excited-trailer",
   "metadata": {},
   "source": [
    "上面这个奇怪的现象，是因为：\n",
    "\n",
    "> 出于对性能优化的考虑，Python内部会对-5到256的整型维持一个数组，起到一个缓存的作用。这样，每次你试图创建一个-5到256范围内的整型数字时，Python都会从这个数组中返回相对应的引用，而不是重新开辟一块新的内存空间。\n",
    "\n",
    "所以，是因为1000超出了这个范围，Python为int_1000和another_int_1000开辟了两块内存空间，这才导致它们的标识不同。"
   ]
  },
  {
   "cell_type": "markdown",
   "id": "pursuant-interference",
   "metadata": {},
   "source": [
    "## 2.2 拷贝\n",
    "\n",
    "拷贝对象在每个PL中都存在，分为深拷贝和钱拷贝，在不同PL中它们的意义也不尽相同。\n",
    "\n",
    "### 2.2.1 浅拷贝\n",
    "在Python中，对象的浅拷贝是指：**重新分配一块内存空间给新对象，并且里面的子对象（属性、方法等）全部引用原对象的**。所以，如果原对象是不可变的还好，但如果是可变的，则会带来一些副作用。\n",
    "\n",
    "下面都是浅拷贝的例子。"
   ]
  },
  {
   "cell_type": "code",
   "execution_count": 13,
   "id": "bibliographic-public",
   "metadata": {},
   "outputs": [
    {
     "name": "stdout",
     "output_type": "stream",
     "text": [
      "(l1 == l2): True, l1 is l2: False\n",
      "(s1 == s2): True, s1 is s2: False\n",
      "(l1 == l2): True, l1 is l2: False\n"
     ]
    }
   ],
   "source": [
    "l1 = [1, 2, 3]\n",
    "l2 = list(l1)\n",
    "print(f\"(l1 == l2): {l1 == l2}, l1 is l2: {l1 is l2}\")\n",
    "\n",
    "s1 = set([1, 2, 3])\n",
    "s2 = set(s1)\n",
    "print(f\"(s1 == s2): {s1 == s2}, s1 is s2: {s1 is s2}\")\n",
    "\n",
    "\n",
    "# 可变对象还可以通过切片完成浅拷贝\n",
    "l1 = [1, 2, 3]\n",
    "l2 = l1[:]\n",
    "print(f\"(l1 == l2): {l1 == l2}, l1 is l2: {l1 is l2}\")"
   ]
  },
  {
   "cell_type": "markdown",
   "id": "revolutionary-symposium",
   "metadata": {},
   "source": [
    "另外，也可以copy模块中的copy方法实现浅拷贝。"
   ]
  },
  {
   "cell_type": "code",
   "execution_count": 15,
   "id": "crucial-exchange",
   "metadata": {},
   "outputs": [
    {
     "name": "stdout",
     "output_type": "stream",
     "text": [
      "(l1 == l2): True, l1 is l2: False\n"
     ]
    }
   ],
   "source": [
    "import copy\n",
    "\n",
    "l1 = [1, 2, 3]\n",
    "l2 = copy.copy(l1)\n",
    "print(f\"(l1 == l2): {l1 == l2}, l1 is l2: {l1 is l2}\")"
   ]
  },
  {
   "cell_type": "markdown",
   "id": "swedish-pencil",
   "metadata": {},
   "source": [
    "不过，需要注意的是，对于元组，使用tuple()或者切片操作符':'不会创建一份浅拷贝，相反，它会返回一个指向相同元组的引用。"
   ]
  },
  {
   "cell_type": "code",
   "execution_count": 16,
   "id": "quiet-carpet",
   "metadata": {},
   "outputs": [
    {
     "name": "stdout",
     "output_type": "stream",
     "text": [
      "(t1 == t2): True, t1 is t2: True\n"
     ]
    }
   ],
   "source": [
    "t1 = (1, 2, 3)\n",
    "t2 = tuple(t1)\n",
    "print(f\"(t1 == t2): {t1 == t2}, t1 is t2: {t1 is t2}\")"
   ]
  },
  {
   "cell_type": "markdown",
   "id": "specialized-nerve",
   "metadata": {},
   "source": [
    "当然，浅拷贝存在的副作用也不可忽视。比如对于一个嵌套列表对象，原对象和新对象因为共享一个内层列表，当其中一个修改时，另一个也会受到影响。"
   ]
  },
  {
   "cell_type": "code",
   "execution_count": 19,
   "id": "pending-flexibility",
   "metadata": {},
   "outputs": [
    {
     "name": "stdout",
     "output_type": "stream",
     "text": [
      "l1 is [[1, 2, 3], (30, 40), 100]\n",
      "l2 is [[1, 2, 3], (30, 40)]\n",
      "l1 is [[1, 2, 3], (30, 40, 50, 60), 100]\n",
      "l2 is [[1, 2, 3], (30, 40)]\n"
     ]
    }
   ],
   "source": [
    "l1 = [[1, 2], (30, 40)]\n",
    "l2 = list(l1)\n",
    "l1.append(100)\n",
    "l1[0].append(3)\n",
    "print(f\"l1 is {l1}\\nl2 is {l2}\")\n",
    "\n",
    "l1[1] += (50, 60)\n",
    "print(f\"l1 is {l1}\\nl2 is {l2}\")"
   ]
  },
  {
   "cell_type": "markdown",
   "id": "surrounded-haiti",
   "metadata": {},
   "source": [
    "### 2.2.2 深拷贝\n",
    "\n",
    "所谓深度拷贝，是指重新分配一块内存，创建一个新的对象，并且将原对象中的元素，以递归的方式，通过创建新的子对象拷贝到新对象中。因此，新对象和原对象没有任何关联。\n",
    "\n",
    "Python中以copy.deepcopy()来实现对象的深度拷贝。"
   ]
  },
  {
   "cell_type": "code",
   "execution_count": 20,
   "id": "composed-hartford",
   "metadata": {},
   "outputs": [
    {
     "name": "stdout",
     "output_type": "stream",
     "text": [
      "l1 is [[1, 2, 3], (30, 40), 100]\n",
      "l2 is [[1, 2], (30, 40)]\n"
     ]
    }
   ],
   "source": [
    "import copy\n",
    "l1 = [[1, 2], (30, 40)]\n",
    "l2 = copy.deepcopy(l1)\n",
    "l1.append(100)\n",
    "l1[0].append(3)\n",
    "print(f\"l1 is {l1}\\nl2 is {l2}\")"
   ]
  },
  {
   "cell_type": "markdown",
   "id": "packed-investing",
   "metadata": {},
   "source": [
    "不过，深度拷贝也不是完美的，往往也会带来一系列问题。如果被拷贝对象中存在指向自身的引用，那么程序很容易陷入无限循环。"
   ]
  },
  {
   "cell_type": "code",
   "execution_count": 21,
   "id": "wanted-reporter",
   "metadata": {},
   "outputs": [
    {
     "name": "stdout",
     "output_type": "stream",
     "text": [
      "x is [1, [...]], y is [1, [...]]\n"
     ]
    }
   ],
   "source": [
    "x = [1]\n",
    "x.append(x)\n",
    "\n",
    "y = copy.deepcopy(x)\n",
    "\n",
    "print(f\"x is {x}, y is {y}\")"
   ]
  },
  {
   "cell_type": "markdown",
   "id": "wireless-cigarette",
   "metadata": {},
   "source": [
    "上面这个例子，列表x中有指向自身的引用，因此x是一个无限嵌套的列表。但是我们发现深度拷贝x到y后，程序并没有出现stack overflow的现象。这是为什么呢？\n",
    "\n",
    "其实，这是因为深度拷贝函数deepcopy中会维护一个字典，记录已经拷贝的对象与其ID。拷贝过程中，如果字典里已经存储了将要拷贝的对象，则会从字典直接返回，看相对应的源码就能明白：\n",
    "\n",
    "```python\n",
    "def deepcopy(x, memo=None, _nil=[]):\n",
    "    \"\"\"Deep copy operation on arbitrary Python objects.\n",
    "    \t\n",
    "\tSee the module's __doc__ string for more info.\n",
    "\t\"\"\"\n",
    "\t\n",
    "    if memo is None:\n",
    "        memo = {}\n",
    "    d = id(x) # 查询被拷贝对象x的id\n",
    "\ty = memo.get(d, _nil) # 查询字典里是否已经存储了该对象\n",
    "\tif y is not _nil:\n",
    "\t    return y # 如果字典里已经存储了将要拷贝的对象，则直接返回\n",
    "        ...    \n",
    "```"
   ]
  },
  {
   "cell_type": "markdown",
   "id": "increased-debut",
   "metadata": {},
   "source": [
    "# 3 赋值与传递\n",
    "\n",
    "在Python中：\n",
    "\n",
    "- 变量的赋值，只是表示让变量指向了某个对象，并不表示拷贝对象给变量；而一个对象，可以被多个变量所指向。\n",
    "- 可变对象（列表，字典，集合等等）的改变，会影响所有指向该对象的变量。\n",
    "- 对于不可变对象（字符串、整型、元组等），所有指向该对象的变量的值总是一样的，也不会改变。但是通过某些操作（+=等等）更新不可变对象的值时，会返回一个新的对象。\n",
    "- 变量可以被删除，但是对象无法被删除。\n",
    "\n",
    "至于函数参数的传递，这里首先引用Python官方文档中的一段说明：\n",
    "\n",
    "> Remember that arguments are passed by assignment in Python. Since assignment just creates references to objects, there’s no alias between an argument name in the caller and callee, and so no call-by-reference\n",
    "\n",
    "准确地说，Python的参数传递是赋值传递 （pass by assignment），或者叫作对象的引用传递（pass by object reference）。\n",
    "\n",
    "具体来说，对于不可变对象，简单的执行函数并不会对调用前的变量产生影响。但如果参数为可变类型，比如list，并且函数内有修改参数的逻辑，那么参数本身也会受到影响。"
   ]
  },
  {
   "cell_type": "code",
   "execution_count": 23,
   "id": "allied-viking",
   "metadata": {},
   "outputs": [
    {
     "name": "stdout",
     "output_type": "stream",
     "text": [
      "1\n",
      "2\n",
      "[1, 2, 3, 4]\n"
     ]
    }
   ],
   "source": [
    "def my_func1(b):\n",
    "    b = 2\n",
    "\n",
    "a = 1\n",
    "my_func1(a)\n",
    "print(a)\n",
    "\n",
    "def my_func1(b):\n",
    "    b = 2\n",
    "    return b\n",
    "\n",
    "a = 1\n",
    "a = my_func1(a)\n",
    "print(a)\n",
    "\n",
    "def my_func3(l2):\n",
    "    l2.append(4)\n",
    "\n",
    "l1 = [1, 2, 3]\n",
    "my_func3(l1)\n",
    "print(l1)"
   ]
  },
  {
   "cell_type": "code",
   "execution_count": null,
   "id": "happy-guest",
   "metadata": {},
   "outputs": [],
   "source": []
  },
  {
   "cell_type": "code",
   "execution_count": null,
   "id": "foreign-brave",
   "metadata": {},
   "outputs": [],
   "source": []
  }
 ],
 "metadata": {
  "kernelspec": {
   "display_name": "Python 3",
   "language": "python",
   "name": "python3"
  },
  "language_info": {
   "codemirror_mode": {
    "name": "ipython",
    "version": 3
   },
   "file_extension": ".py",
   "mimetype": "text/x-python",
   "name": "python",
   "nbconvert_exporter": "python",
   "pygments_lexer": "ipython3",
   "version": "3.8.2"
  }
 },
 "nbformat": 4,
 "nbformat_minor": 5
}
