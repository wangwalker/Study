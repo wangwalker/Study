{
 "cells": [
  {
   "cell_type": "markdown",
   "id": "expanded-member",
   "metadata": {},
   "source": [
    "# 1. 列表VS元组\n",
    "\n",
    "在Python中，**列表list**和**元组tuple**都可以用来放置任意类型的有序集合，使用频率非常高。它们都可以随意嵌套，也支持切片操作、负索引，共有的内置函数有：\n",
    "\n",
    "- `count(item)`表示统计列表/元组中item出现的次数。\n",
    "- `index(item)`表示返回列表/元组中item第一次出现的索引。\n",
    "- `list.reverse()`和`list.sort()`分别表示原地倒转列表和排序（注意，元组没有内置的这两个函数)。\n",
    "- `reversed()`和`sorted()`同样表示对列表/元组进行倒转和排序，reversed()返回一个倒转后的迭代器；sorted()返回排好序的新列表。\n",
    "\n",
    "它们之间的区别在于：\n",
    "\n",
    "- 列表是动态的，长度大小不固定，可以随意地增加、删减或者改变元素（mutable）。\n",
    "- 而元组是静态的，长度大小固定，无法增加删减或者改变（immutable）。\n",
    "\n",
    "另外，列表和元组的存储方式也不一样，因为列表list需要动态扩展其大小，所以必然需要分配额外的内存空间，并在剩余空间不足时自动分配空间；而元组大小固定，存储空间当然也会固定。\n",
    "\n",
    "最后，在性能上，元组会优于列表。"
   ]
  },
  {
   "cell_type": "code",
   "execution_count": 2,
   "id": "dimensional-tenant",
   "metadata": {},
   "outputs": [
    {
     "name": "stdout",
     "output_type": "stream",
     "text": [
      "size of list is 80\n",
      "size of list is 208\n",
      "reverse list: ['r', 'e', 'k', 'l', 'a', 'w', 6, 5, [11, 12], 4, 3, 2, 1, 0]\n",
      "double reversed list: [0, 1, 2, 3, 4, [11, 12], 5, 6, 'w', 'a', 'l', 'k', 'e', 'r']\n",
      "size of tuple is 56\n",
      "size of tuple is 56\n",
      "(2, 3, 5, 1, 2, 3)\n"
     ]
    }
   ],
   "source": [
    "l = list(range(5)) # [0, 1, 2, 3, 4]\n",
    "print('size of list is {}'.format(l.__sizeof__()))\n",
    "l.append([11, 12]) # [0, 1, 2, 3, 4, [11, 12]]\n",
    "l.extend([5, 6])   # [0, 1, 2, 3, 4, [11, 12], 5, 6]\n",
    "l.extend(list('walker'))\n",
    "print('size of list is {}'.format(l.__sizeof__()))\n",
    "\n",
    "l.reverse()\n",
    "print('reverse list: {}'.format(l))\n",
    "print('double reversed list: {}'.format(list(reversed(l))))\n",
    "\n",
    "tu = (2, 3, 5, 1)\n",
    "print('size of tuple is {}'.format(tu.__sizeof__()))\n",
    "\n",
    "tu.count(3) # 1\n",
    "tu.index(3) # 1\n",
    "sorted(tu)\n",
    "print('size of tuple is {}'.format(tu.__sizeof__()))\n",
    "\n",
    "tu = tu + (2, 3) # 元组不能改变，但是可以重新创建一个\n",
    "print(tu)"
   ]
  },
  {
   "cell_type": "markdown",
   "id": "handled-product",
   "metadata": {},
   "source": [
    "# 2. 字典VS集合\n",
    "\n",
    "字典和集合与其他语言大致相同，内部实现都是一种哈希表。\n",
    "\n",
    "在Python3.7及其之后，字典被确定为有序。相对于列表和元组，字典在查找、添加、删除等操作上都可在常数时间O(1)内完成，性能更优。而集合内是无序、唯一的元素。所以在对性能要求高的场景中，字典和集合必不可少。\n",
    "\n",
    "需要注意的是：**字典的键key必须是不可变类型**，例如列表就不能用作键。"
   ]
  },
  {
   "cell_type": "markdown",
   "id": "enormous-profession",
   "metadata": {},
   "source": [
    "## 2.1 字典操作"
   ]
  },
  {
   "cell_type": "code",
   "execution_count": 3,
   "id": "greek-petroleum",
   "metadata": {},
   "outputs": [
    {
     "name": "stdout",
     "output_type": "stream",
     "text": [
      "jason\n",
      "{'name': 'jason', 'age': 20, 'gender': 'male', 'grade': 3}\n",
      "{'name': 'jason', 'age': 20, 'gender': 'male'}\n",
      "{'age': 20, 'gender': 'male'}\n",
      "{'age': 20, 'gender': 'male', 'name': 'Walker'}\n",
      "[('a', 2), ('b', 1), ('c', 10)]\n",
      "[('b', 1), ('a', 2), ('c', 10)]\n"
     ]
    }
   ],
   "source": [
    "# 创建\n",
    "d1 = {'name': 'jason', 'age': 20, 'gender': 'male'}\n",
    "d2 = dict({'name': 'jason', 'age': 20, 'gender': 'male'})\n",
    "d3 = dict([('name', 'jason'), ('age', 20), ('gender', 'male')])\n",
    "d4 = dict(name='jason', age=20, gender='male')\n",
    "d1 == d2 == d3 == d4   # True\n",
    "\n",
    "# 访问\n",
    "print(d1['name'])\n",
    "d1.get('name', None) # jason, dict.get(key, default)\n",
    "\n",
    "# 增删改\n",
    "d1['grade'] = 3 # 添加新值\n",
    "print(d1)\n",
    "d1.pop('grade')\n",
    "print(d1)\n",
    "d1['name'] = \"World\" # 更新name\n",
    "del d1['name']\n",
    "print(d1)\n",
    "d1['name'] = 'Walker'\n",
    "print(d1)\n",
    "\n",
    "# 排序\n",
    "d = {'b': 1, 'a': 2, 'c': 10}\n",
    "d_sorted_by_key = sorted(d.items(), key=lambda x: x[0]) # 根据字典键的升序排序\n",
    "print(d_sorted_by_key)\n",
    "d_sorted_by_value = sorted(d.items(), key=lambda x: x[1]) # 根据字典值的升序排序\n",
    "print(d_sorted_by_value)"
   ]
  },
  {
   "cell_type": "markdown",
   "id": "indoor-centre",
   "metadata": {},
   "source": [
    "## 2.2 集合操作"
   ]
  },
  {
   "cell_type": "code",
   "execution_count": 67,
   "id": "blind-nature",
   "metadata": {},
   "outputs": [
    {
     "name": "stdout",
     "output_type": "stream",
     "text": [
      "'set' object does not support indexing\n",
      "{10, 3, 5}\n",
      "[3, 5, 10]\n"
     ]
    }
   ],
   "source": [
    "# 创建方式\n",
    "s1 = {2, 3, 5}\n",
    "s2 = set([2, 3, 5])\n",
    "s1 == s2\n",
    "\n",
    "# 因为集合是无序，而且它也没有key, 因此只能判断某个值在不在其中。\n",
    "try:\n",
    "    print('get element at index 1 of s1: {}'.format(s1[1]))\n",
    "except TypeError as e:\n",
    "    print(e)\n",
    "2 in s1\n",
    "\n",
    "s1.add(10) # 只能增或者删，不能改\n",
    "s1.remove(2)\n",
    "print(s1)\n",
    "\n",
    "# 排序\n",
    "print(sorted(s1))"
   ]
  },
  {
   "cell_type": "markdown",
   "id": "overall-price",
   "metadata": {},
   "source": [
    "## 2.3 内部实现\n",
    "\n",
    "字典和集合都是基于哈希表实现的。对字典而言，内部的哈希表保存了哈希值、键、值三个元素，而集合只是单一的值元素。在Python老版本中，其内部结构如下所示。\n",
    "\n",
    "```\n",
    "--+-------------------------------+\n",
    "  | 哈希值(hash)  键(key)  值(value)\n",
    "--+-------------------------------+\n",
    "0 |    hash0      key0    value0\n",
    "--+-------------------------------+\n",
    "1 |    hash1      key1    value1\n",
    "--+-------------------------------+\n",
    "2 |    hash2      key2    value2\n",
    "--+-------------------------------+\n",
    ". |           ...\n",
    "__+_______________________________+\n",
    "```\n",
    "\n",
    "随着哈希表中存储的元素越来越多，它将会变得越来越稀疏，所以会浪费很多空间。\n",
    "\n",
    "为了提高存储空间的利用率，现在的哈希表除了字典本身的结构，会把索引和哈希值、键、值单独分开，也就是下面这样新的结构：\n",
    "\n",
    "```\n",
    "Indices\n",
    "----------------------------------------------------\n",
    "None | index | None | None | index | None | index ...\n",
    "----------------------------------------------------\n",
    "\n",
    "Entries\n",
    "--------------------\n",
    "hash0   key0  value0\n",
    "---------------------\n",
    "hash1   key1  value1\n",
    "---------------------\n",
    "hash2   key2  value2\n",
    "---------------------\n",
    "        ...\n",
    "---------------------\n",
    "```\n",
    "\n",
    "那么上面的例子，在新的哈希表结构下的存储形式，就会变成下面这样：\n",
    "\n",
    "```\n",
    "indices = [None, 1, None, None, 0, None, 2]\n",
    "\n",
    "entries = [\n",
    "    [1231236123, 'name', 'mike'],\n",
    "    [-230273521, 'dob', '1999-01-01'],\n",
    "    [9371539127, 'gender', 'male']\n",
    "]\n",
    "```\n",
    "\n",
    "当插入一个新元素时，首先要计算键的哈希值hash(key)，再和 mask = PyDicMinSize - 1做与操作，计算这个元素应该插入哈希表的位置index = hash(key) & mask。如果哈希表中此位置是空的，那么这个元素就会被插入其中。\n",
    "\n",
    "而如果此位置已被占用，Python便会比较两个元素的哈希值和键是否相等。\n",
    "- 若两者都相等，则表明这个元素已经存在，如果值不同，则更新值。\n",
    "- 若两者中有一个不相等，这种情况我们通常称为哈希冲突（hash collision），意思是两个元素的键不相等，但是哈希值相等。这种情况下，Python便会继续寻找表中空余的位置，直到找到位置为止。"
   ]
  },
  {
   "cell_type": "code",
   "execution_count": null,
   "id": "present-difference",
   "metadata": {},
   "outputs": [],
   "source": []
  }
 ],
 "metadata": {
  "kernelspec": {
   "display_name": "Python 3",
   "language": "python",
   "name": "python3"
  },
  "language_info": {
   "codemirror_mode": {
    "name": "ipython",
    "version": 3
   },
   "file_extension": ".py",
   "mimetype": "text/x-python",
   "name": "python",
   "nbconvert_exporter": "python",
   "pygments_lexer": "ipython3",
   "version": "3.8.2"
  }
 },
 "nbformat": 4,
 "nbformat_minor": 5
}
