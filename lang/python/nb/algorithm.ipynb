{
 "cells": [
  {
   "cell_type": "markdown",
   "id": "flying-grain",
   "metadata": {},
   "source": [
    "# 大O表示法\n",
    "\n",
    "大O表示法是一种衡量算法运行速度快慢的方法。具体而言，是指随着输入的增加，在最糟糕的情况下，算法运行所需要消耗时间的量级是多少。比如对于顺序查找算法，因为每个元素都要比较一次，在最糟糕的情况下，所有的元素都要看完，即O(n)；而对于二分查找，在一个有序数组中，每次查找操作之后，序列的长度都会减少一半，这种指数级降低运行时间的算法的时间复杂度一般为O(log n)。\n",
    "\n",
    "经常用到的5中大O运行时间：\n",
    "* O(log n)，也叫对数时间，这样的算法包括二分查找。\n",
    "* O(n)，也叫线性时间，这样的算法包括简单查找。\n",
    "* O(n * log n)，这样的算法包括第4章将介绍的快速排序——一种速度较快的排序算法。\n",
    "* O(n2)，这样的算法包括第2章将介绍的选择排序——一种速度较慢的排序算法。\n",
    "* O(n!)，这样的算法包括接下来将介绍的旅行商问题的解决方案——一种非常慢的算法。"
   ]
  },
  {
   "cell_type": "markdown",
   "id": "becoming-national",
   "metadata": {},
   "source": [
    "# 基本数据结构\n",
    "## 线性结构\n",
    "### 数组\n",
    "\n",
    "数组Array是存储在一段**连续地址空间**上的序列。因为在同一段地址空间上，所以只要知道了序列中第一个元素的位置，就可以**根据位置索引快速随机访问**其他元素。但也因为此，所有修改操作，比如删除、插入、追加操作，极有可能因为空间不足而不得不移动若干元素，这是它的不足。\n",
    "\n",
    "### 链表\n",
    "\n",
    "链表也是一种数组，但它对地址空间的要求没有数组高，不需要连续。在链表中，前面的元素通过一个指针pointer指向后续元素的地址空间，一个接一个，连成一个序列。和数组正好相反，链表的访问操作很低效，只能顺序访问，不能随机访问，修改操作（删除、插入、追加）比较高效。\n",
    "\n",
    "### 栈\n",
    "\n",
    "栈是一种特殊的线性表，遵循“后进先出Last in First Out”的特性，在计算机中使用的很多，比如函数调用栈。有两种操作：\n",
    "\n",
    "- 入栈Push，将元素存在栈顶\n",
    "- 出栈Pop，将栈顶元素弹出\n",
    "\n",
    "### 队列\n",
    "\n",
    "队列也是一种非常有用的线性表，遵循“先进先出First in First Out”的特性。使用得地方也非常多，比如GUI系统中的任务队列，操作系统中的线程队列、进程队列。也有两种操作：\n",
    "\n",
    "- 入队enque，将任务排在队列尾部\n",
    "- 出队deque，取出队首的任务执行\n",
    "\n"
   ]
  },
  {
   "cell_type": "markdown",
   "id": "resistant-chance",
   "metadata": {},
   "source": [
    "# 算法\n",
    "## 查找\n",
    "### 顺序查找\n",
    "\n",
    "在非有序序列中，只能用这种方法，从头到尾，一个一个进行比较。\n",
    "\n",
    "### 二分查找\n",
    "\n",
    "二分查找的逻辑：\n",
    "1. 在有序列表中，找到最中间的一个，以此分割成两个更小的序列\n",
    "2. 将待查找元素和上一步得到的中间元素进行比较\n",
    "3. 如果此中间元素大于待查找元素，在前一段继续第一步\n",
    "4. 如果此中间元素小于待查找元素，在后一段继续第一步"
   ]
  },
  {
   "cell_type": "markdown",
   "id": "criminal-manual",
   "metadata": {},
   "source": [
    "#### 递归版"
   ]
  },
  {
   "cell_type": "code",
   "execution_count": 1,
   "id": "killing-annotation",
   "metadata": {},
   "outputs": [],
   "source": [
    "def binary_search(arr, s):\n",
    "    \"\"\"A wrapper for holding index information in recursion call\"\"\"\n",
    "    def search(arr, s, start, end):\n",
    "        if start > end:\n",
    "            return None\n",
    "    \n",
    "        i_mid = (start + end) // 2\n",
    "        item = arr[i_mid]\n",
    "\n",
    "        if  item == s:\n",
    "            return i_mid\n",
    "        elif item < s:\n",
    "            return search(arr, s, i_mid+1, end)\n",
    "        elif item > s:\n",
    "            return search(arr, s, start, i_mid-1)\n",
    "        else:\n",
    "            return None\n",
    "        \n",
    "    return search(arr, s, 0, len(arr)-1)"
   ]
  },
  {
   "cell_type": "markdown",
   "id": "underlying-electron",
   "metadata": {},
   "source": [
    "#### 循环版"
   ]
  },
  {
   "cell_type": "code",
   "execution_count": 2,
   "id": "closed-illness",
   "metadata": {},
   "outputs": [],
   "source": [
    "def binary_search_2(arr, s):\n",
    "    i_start = 0\n",
    "    i_end = len(arr) - 1\n",
    "    \n",
    "    while i_start <= i_end:\n",
    "        i_mid = (i_start + i_end) // 2\n",
    "        item = arr[i_mid]\n",
    "        if item == s:\n",
    "            return i_mid\n",
    "        elif item > s:\n",
    "            i_end = i_mid - 1\n",
    "        elif item < s:\n",
    "            i_start = i_mid + 1\n",
    "        else:\n",
    "            return None"
   ]
  },
  {
   "cell_type": "markdown",
   "id": "enclosed-attack",
   "metadata": {},
   "source": [
    "### 测试代码"
   ]
  },
  {
   "cell_type": "code",
   "execution_count": 53,
   "id": "every-weather",
   "metadata": {},
   "outputs": [],
   "source": [
    "def test_bs(arr, s):\n",
    "    print(f\"find {s} in {arr}, from recursion call is {binary_search(arr, s)}, from iteration is {binary_search_2(arr, s)}\")"
   ]
  },
  {
   "cell_type": "code",
   "execution_count": 54,
   "id": "suited-detection",
   "metadata": {},
   "outputs": [
    {
     "name": "stdout",
     "output_type": "stream",
     "text": [
      "find 5 in [1, 3, 4, 5, 9, 100], from recursion call is 3, from iteration is 3\n",
      "find 8 in [1, 3, 4, 5, 9, 100], from recursion call is None, from iteration is None\n",
      "find 5 in [1, 3100], from recursion call is None, from iteration is None\n",
      "find 5 in [5], from recursion call is 0, from iteration is 0\n",
      "find 1 in [1, 3, 4, 5, 9, 100], from recursion call is 0, from iteration is 0\n"
     ]
    }
   ],
   "source": [
    "test_bs([1,3, 4, 5, 9, 100], 5)\n",
    "test_bs([1,3, 4, 5, 9, 100], 8)\n",
    "test_bs([1,3100], 5)\n",
    "test_bs([5], 5)\n",
    "test_bs([1,3, 4, 5, 9, 100], 1)"
   ]
  },
  {
   "cell_type": "markdown",
   "id": "immediate-public",
   "metadata": {},
   "source": [
    "## 排序\n",
    "### 选择排序\n",
    "\n"
   ]
  },
  {
   "cell_type": "markdown",
   "id": "smooth-lecture",
   "metadata": {},
   "source": [
    "# 狄克斯特拉算法\n",
    "狄克斯特拉算法用于在有向加权图中寻找最短路径，其步骤分为四步：\n",
    "\n",
    "1. 找到从起点开始，前往后续节点代价最小的点；\n",
    "2. 对于该节点的邻居节点，检查是否存在前往他们的最短路径；\n",
    "3. 重复上一步，直到图中的所有节点都进行了上一步；\n",
    "4. 计算出最终路径，即为最短路径。\n",
    "\n",
    "在算法实现中，需要三个变量（散列表）来存储相关信息，它们是：\n",
    "1. graph，用来存储图中所有节点和其相邻节点及权重的嵌套散列表；\n",
    "2. costs，用来存储从起点开始，到其他所有节点（与之相邻的和不相邻的）的最大权重，作用是便于每次计算局部权重之后进行全局比较。\n",
    "3. parents，用来存储所有节点和其父节点之间的映射关系，因为在第一个散列表中之后从前向后的关系。\n",
    "\n",
    "另外，如果两个节点之间没有边，其权重默认为大∞，如果某个节点没有任何相邻节点，表示为空值。"
   ]
  },
  {
   "cell_type": "code",
   "execution_count": 48,
   "id": "mexican-portable",
   "metadata": {},
   "outputs": [],
   "source": [
    "# 定义∞\n",
    "inf = float(\"inf\")\n",
    "\n",
    "def dikis(graph, costs, parents):\n",
    "    processed = [] # 保存检查过的节点\n",
    "    \n",
    "    def find_lowest_cost_node(costs):\n",
    "        lowest_cost = inf\n",
    "        lowest_cost_node = None\n",
    "        for node in costs.keys():\n",
    "            cost = costs[node]\n",
    "            if cost < lowest_cost and node not in processed:\n",
    "                lowest_cost = cost\n",
    "                lowest_cost_node = node\n",
    "        return lowest_cost_node\n",
    "    \n",
    "    def find_path(parents):\n",
    "        paths = []\n",
    "        current = parents[\"fin\"]\n",
    "        while current is not \"start\":\n",
    "            paths.append(current)\n",
    "            current = parents[current]\n",
    "        paths.reverse()\n",
    "        return paths\n",
    "    \n",
    "    node = find_lowest_cost_node(costs)\n",
    "    while node is not None:\n",
    "        cost = costs[node]\n",
    "        neighbors = graph[node]\n",
    "        for tmp_node in neighbors.keys():\n",
    "            new_cost = cost + neighbors[tmp_node]\n",
    "            if costs[tmp_node] > new_cost:\n",
    "                costs[tmp_node] = new_cost \n",
    "                parents[tmp_node] = node\n",
    "        processed.append(node)\n",
    "        node = find_lowest_cost_node(costs)\n",
    "        \n",
    "    lowest_cost = costs[\"fin\"]\n",
    "    lowest_cost_paths = find_path(parents)\n",
    "    print(f\"the lowest cost from start end end is {lowest_cost}, paths is {lowest_cost_paths}\")"
   ]
  },
  {
   "cell_type": "code",
   "execution_count": 49,
   "id": "working-lafayette",
   "metadata": {},
   "outputs": [
    {
     "name": "stdout",
     "output_type": "stream",
     "text": [
      "the lowest cost from start end end is 6, paths is ['b', 'a']\n"
     ]
    }
   ],
   "source": [
    "graph[\"start\"] = {\"a\":6, \"b\":2}\n",
    "graph[\"a\"] = {\"fin\": 1}\n",
    "graph[\"b\"] = {\"a\":3, \"fin\": 5}\n",
    "graph[\"fin\"] = {}\n",
    "\n",
    "costs = {\"a\":6, \"b\":2, \"fin\": inf}\n",
    "\n",
    "parents = {\"a\": \"start\", \"b\": \"start\", \"fin\": None}\n",
    "\n",
    "dikis(graph, costs, parents)"
   ]
  },
  {
   "cell_type": "code",
   "execution_count": 50,
   "id": "southwest-billy",
   "metadata": {},
   "outputs": [
    {
     "name": "stdout",
     "output_type": "stream",
     "text": [
      "the lowest cost from start end end is 8, paths is ['a', 'c']\n"
     ]
    }
   ],
   "source": [
    "graph[\"start\"] = {\"a\":5, \"b\":2}\n",
    "graph[\"a\"] = {\"c\": 2, \"d\":4}\n",
    "graph[\"b\"] = {\"a\":8, \"c\": 7}\n",
    "graph[\"c\"] = {\"fin\":1}\n",
    "graph[\"d\"] = {\"c\":6, \"fin\":3}\n",
    "graph[\"fin\"] = {}\n",
    "\n",
    "costs = {\"a\":5, \"b\":2, \"c\":inf, \"d\":inf, \"fin\": inf}\n",
    "\n",
    "parents = {\"a\": \"start\", \"b\": \"start\",\"c\": None, \"d\": None, \"fin\": None}\n",
    "\n",
    "dikis(graph, costs, parents)"
   ]
  },
  {
   "cell_type": "code",
   "execution_count": null,
   "id": "stock-encyclopedia",
   "metadata": {},
   "outputs": [],
   "source": []
  },
  {
   "cell_type": "code",
   "execution_count": null,
   "id": "genuine-plane",
   "metadata": {},
   "outputs": [],
   "source": []
  }
 ],
 "metadata": {
  "kernelspec": {
   "display_name": "Python 3",
   "language": "python",
   "name": "python3"
  },
  "language_info": {
   "codemirror_mode": {
    "name": "ipython",
    "version": 3
   },
   "file_extension": ".py",
   "mimetype": "text/x-python",
   "name": "python",
   "nbconvert_exporter": "python",
   "pygments_lexer": "ipython3",
   "version": "3.8.2"
  }
 },
 "nbformat": 4,
 "nbformat_minor": 5
}
