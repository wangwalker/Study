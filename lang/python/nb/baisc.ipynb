{
 "cells": [
  {
   "cell_type": "markdown",
   "id": "blocked-feeling",
   "metadata": {},
   "source": [
    "## 判断条件\n",
    "\n",
    "在所有PL中，不同的类型都可能作为判断的条件，它们的真值如下所示：\n",
    "- String，空字符串为False，其他为True\n",
    "- Int，0为False，其他为True\n",
    "- Iterable，list、tuple、dict、set为空时，是False，其他为True\n",
    "- Object，None为False，其他为True"
   ]
  },
  {
   "cell_type": "code",
   "execution_count": 1,
   "id": "equivalent-proxy",
   "metadata": {},
   "outputs": [
    {
     "name": "stdout",
     "output_type": "stream",
     "text": [
      "walker equals True\n",
      " equals False\n",
      "0 equals False\n",
      "11 equals True\n",
      "[] equals False\n",
      "[1, 2, 3] equals True\n"
     ]
    }
   ],
   "source": [
    "def bool_test(t):\n",
    "    if t:\n",
    "        print(f\"{t} equals True\")\n",
    "    else:\n",
    "        print(f\"{t} equals False\")\n",
    "        \n",
    "bool_test('walker')\n",
    "bool_test('')\n",
    "bool_test(0)\n",
    "bool_test(11)\n",
    "bool_test(list())\n",
    "bool_test([1,2,3])"
   ]
  },
  {
   "cell_type": "markdown",
   "id": "central-aquarium",
   "metadata": {},
   "source": [
    "## 特殊点\n",
    "\n",
    "Python中，有不少特性和其他语言有点差异，现列举如下：\n",
    "- Python中没有`Switch`语句，替代方法就是用多个`if`、`elif`；"
   ]
  },
  {
   "cell_type": "markdown",
   "id": "reported-postage",
   "metadata": {},
   "source": [
    "## 常见异常类型\n",
    "\n",
    "在Python中，常见的异常有：\n",
    "1. AssertionError：当assert断言条件为假的时候抛出的异常\n",
    "2. AttributeError：当访问的对象属性不存在的时候抛出的异常\n",
    "3. IndexError：超出对象索引的范围时抛出的异常\n",
    "4. KeyError：在字典中查找一个不存在的key抛出的异常\n",
    "5. NameError：访问一个不存在的变量时抛出的异常\n",
    "6. OSError：操作系统产生的异常\n",
    "7. SyntaxError：语法错误时会抛出此异常\n",
    "8. TypeError：类型错误，通常是不通类型之间的操作会出现此异常\n",
    "9. ZeroDivisionError：进行数学运算时除数为0时会出现此异常"
   ]
  },
  {
   "cell_type": "markdown",
   "id": "played-designation",
   "metadata": {},
   "source": [
    "## 变量作用域\n",
    "\n",
    "Python中函数作用域和其他PL类似，函数作用域内定义的变量只能在函数内使用，在函数外部、全局定义的变量，也可以在函数内访问，但如果要修改则需要关键字的支持：\n",
    "- global，当在函数内部修改某个全局变量时，需要先用`global`声明此变量，然后方可使用；\n",
    "- nonlocal，在嵌套函数中，如果内层作用域要修改外层作用域的变量，但又不至于覆盖掉，则需要使用`nonlocal`先声明。"
   ]
  },
  {
   "cell_type": "code",
   "execution_count": 2,
   "id": "substantial-mainland",
   "metadata": {},
   "outputs": [
    {
     "name": "stdout",
     "output_type": "stream",
     "text": [
      "inner: nonlocal\n",
      "outer: nonlocal\n"
     ]
    }
   ],
   "source": [
    "MIN_VALUE = 1\n",
    "MAX_VALUE = 10\n",
    "def validation_check(value):\n",
    "    global MIN_VALUE\n",
    "    ...\n",
    "    MIN_VALUE += 1 # 如果不用global声明就会报错\n",
    "    ...\n",
    "validation_check(5)\n",
    "\n",
    "def outer():\n",
    "    x = \"local\"\n",
    "    def inner():\n",
    "        nonlocal x # nonlocal关键字表示这里的x就是外部函数outer定义的变量x\n",
    "        x = 'nonlocal'\n",
    "        print(\"inner:\", x)\n",
    "    inner()\n",
    "    print(\"outer:\", x)\n",
    "outer()"
   ]
  },
  {
   "cell_type": "markdown",
   "id": "returning-officer",
   "metadata": {},
   "source": []
  },
  {
   "cell_type": "markdown",
   "id": "cooperative-carpet",
   "metadata": {},
   "source": []
  },
  {
   "cell_type": "markdown",
   "id": "pediatric-luxembourg",
   "metadata": {},
   "source": [
    "## 模块化\n",
    "\n",
    "在虚拟执行环境中，为了能够从项目根目录中导入相关模块，需要在activate文件的末尾加上如下代码。\n",
    "\n",
    "```\n",
    "export PYTHONPATH=\"/home/project/your_projects\"\n",
    "```\n",
    "\n",
    "示例如下所示。\n",
    "\n",
    "```python\n",
    ".\n",
    "├── proto\n",
    "│   ├── mat.py\n",
    "├── utils\n",
    "│   └── mat_mul.py\n",
    "└── src\n",
    "    └── main.py\n",
    "# proto/mat.py\n",
    "\n",
    "class Matrix(object):\n",
    "    def __init__(self, data):\n",
    "        self.data = data\n",
    "        self.n = len(data)\n",
    "        self.m = len(data[0])\n",
    "# utils/mat_mul.py\n",
    "\n",
    "from proto.mat import Matrix\n",
    "\n",
    "def mat_mul(matrix_1: Matrix, matrix_2: Matrix):\n",
    "    assert matrix_1.m == matrix_2.n\n",
    "    n, m, s = matrix_1.n, matrix_1.m, matrix_2.m\n",
    "    result = [[0 for _ in range(n)] for _ in range(s)]\n",
    "    for i in range(n):\n",
    "        for j in range(s):\n",
    "            for k in range(m):\n",
    "                result[i][k] += matrix_1.data[i][j] * matrix_2.data[j][k]\n",
    "\n",
    "    return Matrix(result)\n",
    "# src/main.py\n",
    "\n",
    "from proto.mat import Matrix\n",
    "from utils.mat_mul import mat_mul\n",
    "\n",
    "\n",
    "a = Matrix([[1, 2], [3, 4]])\n",
    "b = Matrix([[5, 6], [7, 8]])\n",
    "\n",
    "print(mat_mul(a, b).data)\n",
    "\n",
    "########## 输出 ##########\n",
    "\n",
    "[[19, 22], [43, 50]]\n",
    "```"
   ]
  },
  {
   "cell_type": "code",
   "execution_count": null,
   "id": "geographic-accordance",
   "metadata": {},
   "outputs": [],
   "source": []
  }
 ],
 "metadata": {
  "kernelspec": {
   "display_name": "Python 3",
   "language": "python",
   "name": "python3"
  },
  "language_info": {
   "codemirror_mode": {
    "name": "ipython",
    "version": 3
   },
   "file_extension": ".py",
   "mimetype": "text/x-python",
   "name": "python",
   "nbconvert_exporter": "python",
   "pygments_lexer": "ipython3",
   "version": "3.8.9"
  }
 },
 "nbformat": 4,
 "nbformat_minor": 5
}
