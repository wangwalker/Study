{
 "cells": [
  {
   "cell_type": "markdown",
   "id": "certified-sherman",
   "metadata": {},
   "source": [
    "# 函数式编程\n",
    "\n",
    "函数式编程最大的特点是将“函数”作为一等公民，同时保证所有变量都是不可变的immutable，这样就保证了程序的稳定健壮，可测试性好。但同时，也因为这些特性，完全的函数式编程比较难。\n",
    "\n",
    "在Python中，也对函数式编程有所支持，最主要的就是匿名函数lambda，map、filter和reduce这三个高阶函数的支持。\n",
    "\n",
    "匿名函数适用在简单场景，比如配合map、reduce完成某个任务，或者通过列表组合方式创建新的列表等。"
   ]
  },
  {
   "cell_type": "code",
   "execution_count": 5,
   "id": "wound-invalid",
   "metadata": {},
   "outputs": [
    {
     "name": "stdout",
     "output_type": "stream",
     "text": [
      "raw list is [1, 2, 3, 4, 5]\n",
      "odd list is [2, 4]\n",
      "accumutive list is 120\n"
     ]
    }
   ],
   "source": [
    "from functools import reduce\n",
    "\n",
    "l = [1, 2, 3, 4, 5]\n",
    "double_l = map(lambda x: x * 2, l) # [2， 4， 6， 8， 10]\n",
    "odd_l = filter(lambda x: x % 2 == 0, l) # [2, 4]\n",
    "acc_l = reduce(lambda x, y: x * y, l)\n",
    "\n",
    "print(f\"raw list is {l}\\n\"\n",
    "     f\"odd list is {list(odd_l)}\\n\"\n",
    "     f\"accumutive list is {acc_l}\")"
   ]
  },
  {
   "cell_type": "code",
   "execution_count": null,
   "id": "minus-outside",
   "metadata": {},
   "outputs": [],
   "source": []
  },
  {
   "cell_type": "markdown",
   "id": "improved-split",
   "metadata": {},
   "source": [
    "# 1.装饰器\n",
    "\n",
    "如其名字所言，“装饰器”就是为了“装饰”某个函数或者类，装饰的目的是为了增强函数、类的功能。在Python中，装饰器使用的非常广泛，比如用作日志记录、缓存等。\n",
    "\n",
    "要想装饰器起作用，至少需要满足一下条件：\n",
    "1. 函数为一等公民，可以被作为参数传递，也可以被作为返回值返回\n",
    "2. 支持嵌套函数，即可以在函数内定义函数\n",
    "\n",
    "另外，Python中的装饰器也比较多样，可以是对原函数简单的包装，也可以是多个嵌套在一起，还有类装饰器。"
   ]
  },
  {
   "cell_type": "markdown",
   "id": "extended-bumper",
   "metadata": {},
   "source": [
    "## 1.1 简单的装饰器"
   ]
  },
  {
   "cell_type": "code",
   "execution_count": 1,
   "id": "lasting-hospital",
   "metadata": {},
   "outputs": [
    {
     "name": "stdout",
     "output_type": "stream",
     "text": [
      "my decorator works...\n",
      "this is a simple function\n"
     ]
    }
   ],
   "source": [
    "# 装饰器的“原始写法”\n",
    "\n",
    "def my_decorator(func):\n",
    "    def wrapper():\n",
    "        print('my decorator works...')\n",
    "        func()\n",
    "    return wrapper\n",
    "\n",
    "def simple_func():\n",
    "    print('this is a simple function')\n",
    "    \n",
    "decorating_simple_func = my_decorator(simple_func)\n",
    "decorating_simple_func()"
   ]
  },
  {
   "cell_type": "code",
   "execution_count": 2,
   "id": "amazing-packet",
   "metadata": {},
   "outputs": [
    {
     "name": "stdout",
     "output_type": "stream",
     "text": [
      "my decorator works...\n",
      "this is another function\n"
     ]
    }
   ],
   "source": [
    "# 更简单、优雅的语法\n",
    "\n",
    "@my_decorator\n",
    "def another_func():\n",
    "    print('this is another function')\n",
    "    \n",
    "another_func()"
   ]
  },
  {
   "cell_type": "markdown",
   "id": "economic-mineral",
   "metadata": {},
   "source": [
    "**这里的 @ 就是Python中装饰器的语法糖，相当于上面的原始写法。**"
   ]
  },
  {
   "cell_type": "markdown",
   "id": "stopped-blanket",
   "metadata": {},
   "source": [
    "## 1.2 带参数的装饰器"
   ]
  },
  {
   "cell_type": "code",
   "execution_count": 3,
   "id": "genetic-sitting",
   "metadata": {},
   "outputs": [
    {
     "name": "stdout",
     "output_type": "stream",
     "text": [
      "my decorator works, args: ('walker',), kwargs: {}\n",
      "hello walker\n"
     ]
    }
   ],
   "source": [
    "# 传递函数参数\n",
    "\n",
    "def my_decorator(func):\n",
    "    def wrapper(*args, **kwargs):\n",
    "        print('my decorator works, args: {}, kwargs: {}'.format(args, kwargs))\n",
    "        func(*args, **kwargs)\n",
    "    return wrapper\n",
    "\n",
    "@my_decorator\n",
    "def greet(message):\n",
    "    print('hello {}'.format(message))\n",
    "    \n",
    "greet('walker')"
   ]
  },
  {
   "cell_type": "code",
   "execution_count": 4,
   "id": "serious-apartment",
   "metadata": {},
   "outputs": [
    {
     "name": "stdout",
     "output_type": "stream",
     "text": [
      "repeating decorator iterate at 1 times\n",
      "You are fired is important!\n",
      "repeating decorator iterate at 2 times\n",
      "You are fired is important!\n",
      "repeating decorator iterate at 3 times\n",
      "You are fired is important!\n"
     ]
    }
   ],
   "source": [
    "# 给装饰器自定义参数\n",
    "\n",
    "def repeat(count):\n",
    "    def my_decorator(func):\n",
    "        def wrapper(*args, **kwargs):\n",
    "            for i in range(count):\n",
    "                print('repeating decorator iterate at {} times'.format(i+1))\n",
    "                func(*args, **kwargs)\n",
    "        return wrapper\n",
    "    return my_decorator\n",
    "\n",
    "@repeat(3)\n",
    "def say_important(message):\n",
    "    print('{} is important!'.format(message))\n",
    "    \n",
    "say_important('You are fired')"
   ]
  },
  {
   "cell_type": "markdown",
   "id": "rapid-commissioner",
   "metadata": {},
   "source": [
    "使用装饰器之后，原函数的元信息会被修改，这时候需要用Python内置的装饰器@functools.wraps修复，以保留原函数的元信息。"
   ]
  },
  {
   "cell_type": "code",
   "execution_count": 5,
   "id": "dutch-operations",
   "metadata": {},
   "outputs": [
    {
     "name": "stdout",
     "output_type": "stream",
     "text": [
      "Help on function wrapper in module __main__:\n",
      "\n",
      "wrapper(*args, **kwargs)\n",
      "\n",
      "Help on function greet in module __main__:\n",
      "\n",
      "greet(message)\n",
      "\n",
      "decorator works...\n",
      "Hello, Walker\n"
     ]
    }
   ],
   "source": [
    "help(say_important)\n",
    "\n",
    "import functools\n",
    "\n",
    "def my_decorator(func):\n",
    "    @functools.wraps(func)\n",
    "    def wrapper(*args, **kwargs):\n",
    "        print('decorator works...')\n",
    "        func(*args, **kwargs)\n",
    "    return wrapper\n",
    "\n",
    "@my_decorator\n",
    "def greet(message):\n",
    "    print(message)\n",
    "    \n",
    "help(greet)\n",
    "greet(\"Hello, Walker\")"
   ]
  },
  {
   "cell_type": "markdown",
   "id": "dutch-conversation",
   "metadata": {},
   "source": [
    "## 1.3 类装饰器\n",
    "\n",
    "类作为装饰器，主要依赖于它的`__call__`函数，也就是说要将装饰器的实现逻辑放在内置函数`__call__`里面。"
   ]
  },
  {
   "cell_type": "code",
   "execution_count": 6,
   "id": "electoral-specification",
   "metadata": {},
   "outputs": [
    {
     "name": "stdout",
     "output_type": "stream",
     "text": [
      "say_hi has been called 1 times.\n",
      "Hi, Walker\n",
      "say_hi has been called 2 times.\n",
      "Hi, Walker\n",
      "say_hi has been called 3 times.\n",
      "Hi, Walker\n"
     ]
    }
   ],
   "source": [
    "class Counter:\n",
    "    def __init__(self, func):\n",
    "        self.func = func\n",
    "        self.num_calls = 0\n",
    "        \n",
    "    def __call__(self, *args, **kwargs):\n",
    "        self.num_calls += 1\n",
    "        print('{} has been called {} times.'.format(self.func.__name__, self.num_calls))\n",
    "        return self.func(*args, **kwargs)\n",
    "        \n",
    "@Counter\n",
    "def say_hi():\n",
    "    print('Hi, Walker')\n",
    "    \n",
    "say_hi()\n",
    "say_hi()\n",
    "say_hi()"
   ]
  },
  {
   "cell_type": "markdown",
   "id": "preceding-documentation",
   "metadata": {},
   "source": [
    "## 1.4 嵌套装饰器\n",
    "\n",
    "可以按照顺序嵌套多个装饰器，比如：\n",
    "```python\n",
    "@decorator1\n",
    "@decorator2\n",
    "@decorator3\n",
    "def some_func():\n",
    "    pass\n",
    "```\n",
    "\n",
    "其执行顺序为：`decorator1(decorator2(decorator3(func)))`"
   ]
  },
  {
   "cell_type": "code",
   "execution_count": 7,
   "id": "personal-meditation",
   "metadata": {},
   "outputs": [
    {
     "name": "stdout",
     "output_type": "stream",
     "text": [
      "decorator 1 works...\n",
      "decorator 2 works...\n",
      "decorator 3 works...\n"
     ]
    }
   ],
   "source": [
    "def decorator1(func):\n",
    "    @functools.wraps(func)\n",
    "    def wrapper(*args, **kwargs):\n",
    "        print('decorator 1 works...')\n",
    "        func(*args, **kwargs)\n",
    "    return wrapper\n",
    "\n",
    "def decorator2(func):\n",
    "    @functools.wraps(func)\n",
    "    def wrapper(*args, **kwargs):\n",
    "        print('decorator 2 works...')\n",
    "        func(*args, **kwargs)\n",
    "    return wrapper\n",
    "\n",
    "def decorator3(func):\n",
    "    @functools.wraps(func)\n",
    "    def wrapper(*args, **kwargs):\n",
    "        print('decorator 3 works...')\n",
    "        func(*args, **kwargs)\n",
    "    return wrapper\n",
    "\n",
    "@decorator1\n",
    "@decorator2\n",
    "@decorator3\n",
    "def some_func():\n",
    "    pass\n",
    "\n",
    "some_func()"
   ]
  },
  {
   "cell_type": "markdown",
   "id": "transparent-neighbor",
   "metadata": {},
   "source": [
    "## 1.5 使用场景\n",
    "\n",
    "在Python中，装饰器的使用场景有：\n",
    "1. 身份认证\n",
    "2. 日志记录\n",
    "3. 输入检查\n",
    "4. 设置缓存\n",
    "5. 等等"
   ]
  },
  {
   "cell_type": "code",
   "execution_count": 10,
   "id": "coated-stranger",
   "metadata": {},
   "outputs": [
    {
     "name": "stdout",
     "output_type": "stream",
     "text": [
      "user has logged in.\n"
     ]
    }
   ],
   "source": [
    "# 身份认证示例\n",
    "\n",
    "def authenticate(func):\n",
    "    @functools.wraps(func)\n",
    "    def wrapper(*args, **kwargs):\n",
    "        request = args[0]\n",
    "        if check_user_logged_in(request):\n",
    "            print('user has logged in.')\n",
    "            return func(*args, **kwargs)\n",
    "        else:\n",
    "            raise Exception('You have not logged in.')\n",
    "    return wrapper\n",
    "\n",
    "def check_user_logged_in(request):\n",
    "    return request is not None\n",
    "\n",
    "@authenticate\n",
    "def commit_comment(request, user):\n",
    "    pass\n",
    "\n",
    "commit_comment('request', 'walker')"
   ]
  },
  {
   "cell_type": "code",
   "execution_count": 14,
   "id": "chief-croatia",
   "metadata": {},
   "outputs": [
    {
     "name": "stdout",
     "output_type": "stream",
     "text": [
      "calculate_prime took 0.0023679895093664527 ms\n"
     ]
    }
   ],
   "source": [
    "# 日志记录\n",
    "\n",
    "import time\n",
    "\n",
    "def log_execution_time(func):\n",
    "    @functools.wraps(func)\n",
    "    def wrapper(*args, **kwargs):\n",
    "        start = time.perf_counter()\n",
    "        res = func(*args, **kwargs)\n",
    "        end = time.perf_counter()\n",
    "        print('{} took {} ms'.format(func.__name__, (end - start) * 1000))\n",
    "        return res\n",
    "    return wrapper\n",
    "   \n",
    "@functools.lru_cache()\n",
    "@log_execution_time\n",
    "def calculate_prime():\n",
    "    pass\n",
    "\n",
    "calculate_prime()"
   ]
  },
  {
   "cell_type": "markdown",
   "id": "opponent-channel",
   "metadata": {},
   "source": []
  },
  {
   "cell_type": "markdown",
   "id": "manual-bangladesh",
   "metadata": {},
   "source": [
    "# 2 生成器\n",
    "\n",
    "生成器是Python中一个比较高级且重要的特性，它可以根据一组规则，一个接一个地生成无限个元素。\n",
    "\n",
    "相对于列表或者元组，它最大的特点在于可以节约大量的内存空间，提高程序性能。因为在生成器中，元素是一个接一个地生成的，并不需要事先将所有元素创建出来。这在某些场景中是很有吸引力的，比如大数据的分块加载。\n",
    "\n",
    "比如下面这个例子中，生成器版本只需要最大几十MB内存，而迭代器版本的需要接近4GB内存。"
   ]
  },
  {
   "cell_type": "code",
   "execution_count": 6,
   "id": "verified-carbon",
   "metadata": {},
   "outputs": [
    {
     "name": "stdout",
     "output_type": "stream",
     "text": [
      "initing iterator memory used: 40.1875 MB\n",
      "after iterator initiated memory used: 3674.34375 MB\n",
      "4999999950000000\n",
      "after sum called memory used: 3674.34375 MB\n",
      "initing generator memory used: 38.21875 MB\n",
      "after generator initiated memory used: 38.21875 MB\n",
      "4999999950000000\n",
      "after sum called memory used: 38.21875 MB\n"
     ]
    }
   ],
   "source": [
    "import os, psutil\n",
    "\n",
    "def show_memory_info(hint):\n",
    "    pid = os.getpid()\n",
    "    p = psutil.Process(pid)\n",
    "    \n",
    "    info = p.memory_full_info()\n",
    "    memory = info.uss / 1024. / 1024\n",
    "    print('{} memory used: {} MB'.format(hint, memory))\n",
    "def test_iterator():\n",
    "    show_memory_info('initing iterator')\n",
    "    list_1 = [i for i in range(100000000)]\n",
    "    show_memory_info('after iterator initiated')\n",
    "    print(sum(list_1))\n",
    "    show_memory_info('after sum called')\n",
    "\n",
    "def test_generator():\n",
    "    show_memory_info('initing generator')\n",
    "    list_2 = (i for i in range(100000000))\n",
    "    show_memory_info('after generator initiated')\n",
    "    print(sum(list_2))\n",
    "    show_memory_info('after sum called')\n",
    "\n",
    "test_iterator()\n",
    "test_generator()"
   ]
  },
  {
   "cell_type": "markdown",
   "id": "initial-following",
   "metadata": {},
   "source": [
    "用列表生成式可以很方便的生成一个新列表，当把方括号`[]`换成圆括号`()`时，就会得到一个生成器。另外，使用关键字`yield`也可以显式创建生成器。"
   ]
  },
  {
   "cell_type": "code",
   "execution_count": 10,
   "id": "bibliographic-laptop",
   "metadata": {},
   "outputs": [
    {
     "name": "stdout",
     "output_type": "stream",
     "text": [
      "generator 1 is <generator object <genexpr> at 0x104682a50>, list to [0, 1, 4, 9, 16, 25, 36, 49, 64, 81]\n",
      "generator 2 is <generator object my_generator at 0x104682c80>, list to [0, 1, 4, 9, 16, 25, 36, 49, 64, 81]\n"
     ]
    },
    {
     "data": {
      "text/plain": [
       "False"
      ]
     },
     "execution_count": 10,
     "metadata": {},
     "output_type": "execute_result"
    }
   ],
   "source": [
    "gen1 = (i ** 2 for i in range(10))\n",
    "\n",
    "def my_generator(n):\n",
    "    i = 0\n",
    "    while i < n:\n",
    "        yield i ** 2\n",
    "        i += 1\n",
    "        \n",
    "gen2 = my_generator(10)\n",
    "\n",
    "print(f\"generator 1 is {gen1}, list to {list(gen1)}\")\n",
    "print(f\"generator 2 is {gen2}, list to {list(gen2)}\")\n",
    "\n",
    "gen1 == gen2\n"
   ]
  },
  {
   "cell_type": "markdown",
   "id": "dramatic-hundred",
   "metadata": {},
   "source": [
    "和迭代器一样，生成器也是通过`next(i)`函数来遍历，当完成之后，会抛出`StopIteration`异常。"
   ]
  },
  {
   "cell_type": "code",
   "execution_count": 13,
   "id": "pending-lobby",
   "metadata": {},
   "outputs": [
    {
     "name": "stdout",
     "output_type": "stream",
     "text": [
      "0\n",
      "1\n",
      "4\n"
     ]
    },
    {
     "ename": "StopIteration",
     "evalue": "",
     "output_type": "error",
     "traceback": [
      "\u001b[0;31m---------------------------------------------------------------------------\u001b[0m",
      "\u001b[0;31mStopIteration\u001b[0m                             Traceback (most recent call last)",
      "\u001b[0;32m<ipython-input-13-119072e631de>\u001b[0m in \u001b[0;36m<module>\u001b[0;34m\u001b[0m\n\u001b[1;32m      4\u001b[0m \u001b[0mprint\u001b[0m\u001b[0;34m(\u001b[0m\u001b[0mnext\u001b[0m\u001b[0;34m(\u001b[0m\u001b[0mgen3\u001b[0m\u001b[0;34m)\u001b[0m\u001b[0;34m)\u001b[0m\u001b[0;34m\u001b[0m\u001b[0;34m\u001b[0m\u001b[0m\n\u001b[1;32m      5\u001b[0m \u001b[0mprint\u001b[0m\u001b[0;34m(\u001b[0m\u001b[0mnext\u001b[0m\u001b[0;34m(\u001b[0m\u001b[0mgen3\u001b[0m\u001b[0;34m)\u001b[0m\u001b[0;34m)\u001b[0m\u001b[0;34m\u001b[0m\u001b[0;34m\u001b[0m\u001b[0m\n\u001b[0;32m----> 6\u001b[0;31m \u001b[0mprint\u001b[0m\u001b[0;34m(\u001b[0m\u001b[0mnext\u001b[0m\u001b[0;34m(\u001b[0m\u001b[0mgen3\u001b[0m\u001b[0;34m)\u001b[0m\u001b[0;34m)\u001b[0m\u001b[0;34m\u001b[0m\u001b[0;34m\u001b[0m\u001b[0m\n\u001b[0m",
      "\u001b[0;31mStopIteration\u001b[0m: "
     ]
    }
   ],
   "source": [
    "gen3 = my_generator(3)\n",
    "\n",
    "print(next(gen3))\n",
    "print(next(gen3))\n",
    "print(next(gen3))\n",
    "print(next(gen3))"
   ]
  },
  {
   "cell_type": "code",
   "execution_count": null,
   "id": "complex-version",
   "metadata": {},
   "outputs": [],
   "source": []
  },
  {
   "cell_type": "code",
   "execution_count": null,
   "id": "wrapped-confidentiality",
   "metadata": {},
   "outputs": [],
   "source": []
  },
  {
   "cell_type": "code",
   "execution_count": null,
   "id": "musical-father",
   "metadata": {},
   "outputs": [],
   "source": []
  }
 ],
 "metadata": {
  "kernelspec": {
   "display_name": "Python 3",
   "language": "python",
   "name": "python3"
  },
  "language_info": {
   "codemirror_mode": {
    "name": "ipython",
    "version": 3
   },
   "file_extension": ".py",
   "mimetype": "text/x-python",
   "name": "python",
   "nbconvert_exporter": "python",
   "pygments_lexer": "ipython3",
   "version": "3.8.2"
  }
 },
 "nbformat": 4,
 "nbformat_minor": 5
}
