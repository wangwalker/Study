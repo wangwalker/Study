{
 "cells": [
  {
   "cell_type": "markdown",
   "id": "referenced-wednesday",
   "metadata": {},
   "source": [
    "# 问题1\n",
    "### 描述\n",
    "定义栈的数据结构，请在该类型中实现一个能够得到栈的最小元素的min函数。在栈中调用min.push及min.pop的时间复杂度都是O(1)。\n",
    "### 分析\n",
    "首先定义一个普通的栈，实现push和pop方法。要获得最小元素，可以从一个变量保存下当前栈中的最小元素，这样push的时候更新，在pop的时候也更新，但这在常熟时间内实现不了。从题目描述来看，min函数可以push和pop表示它也是一个栈，那么用另一个栈来保存当前栈中的所有最小元素即可，当原始栈push和pop的时候，要同步更新表示最小元素的栈。具体实现如下。"
   ]
  },
  {
   "cell_type": "code",
   "execution_count": 27,
   "id": "federal-wells",
   "metadata": {},
   "outputs": [],
   "source": [
    "class Stack:\n",
    "    def __init__(self):\n",
    "        self.items = []\n",
    "        \n",
    "    def push(self, item):\n",
    "        self.items.append(item)\n",
    "    \n",
    "    def pop(self):\n",
    "        if (len(self.items) == 0):\n",
    "            return None\n",
    "        return self.items.pop()\n",
    "    \n",
    "    def show_all(self):\n",
    "        print(\"all elements: %s\" % str(self.items))\n",
    "        \n",
    "class MinStack(Stack):\n",
    "    def __init__(self):\n",
    "        self.min = Stack()\n",
    "        super().__init__()\n",
    "        \n",
    "    def push(self, item):\n",
    "        min_top = self.min.pop()\n",
    "        if (min_top == None):\n",
    "            self.min.push(item)\n",
    "        else:\n",
    "            if (item < min_top):\n",
    "                self.min.push(min_top)\n",
    "                self.min.push(item)\n",
    "            else:\n",
    "                self.min.push(min_top)\n",
    "        super().push(item)\n",
    "        \n",
    "    def pop(self):\n",
    "        top = super().pop()\n",
    "        min_top = self.min.pop()\n",
    "        if (top == None):\n",
    "            return None\n",
    "        if (top != min_top):\n",
    "            self.min.push(min_top)\n",
    "            \n",
    "    def show_min(self):\n",
    "        self.min.show_all()"
   ]
  },
  {
   "cell_type": "code",
   "execution_count": 28,
   "id": "earlier-relay",
   "metadata": {},
   "outputs": [
    {
     "name": "stdout",
     "output_type": "stream",
     "text": [
      "all elements: [1, 2]\n",
      "all elements: [1]\n"
     ]
    }
   ],
   "source": [
    "stack = Stack()\n",
    "\n",
    "stack.push(1)\n",
    "stack.push(2)\n",
    "stack.show_all()\n",
    "stack.pop()\n",
    "stack.show_all()"
   ]
  },
  {
   "cell_type": "code",
   "execution_count": 32,
   "id": "elder-singles",
   "metadata": {},
   "outputs": [
    {
     "name": "stdout",
     "output_type": "stream",
     "text": [
      "all elements: [6, 3, 4]\n",
      "all elements: [6, 3]\n",
      "3\n"
     ]
    }
   ],
   "source": [
    "min_stack = MinStack()\n",
    "min_stack.push(6)\n",
    "min_stack.push(3)\n",
    "min_stack.push(4)\n",
    "min_stack.show_all()\n",
    "min_stack.show_min()\n",
    "print(min_stack.min.pop())"
   ]
  },
  {
   "cell_type": "markdown",
   "id": "purple-artwork",
   "metadata": {},
   "source": [
    "# 问题2\n",
    "\n",
    "### 描述\n",
    "根据两个文件的绝对路径，计算出后一个相对于前一个的相对路径。比如a=/qihoo/app/a/b/c/d/new.c，b=/qihoo/app/1/2/test.c，那么b相对于a的相对路径为../../../../1/2/test.c\n",
    "\n",
    "### 分析\n",
    "首先应该算出两个路径的最深公共目录，比如对于这两个路径为/qihoo/app。然后再算出被相对路径到此公共路径的深度，并算出目标路径去除公共路径的部分。最后前面算出的深度*`../`，再加上后面算出来的独立路径，即结果。"
   ]
  },
  {
   "cell_type": "code",
   "execution_count": 45,
   "id": "specialized-filing",
   "metadata": {},
   "outputs": [],
   "source": [
    "from functools import reduce\n",
    "\n",
    "def relative_path(a, b):\n",
    "    a_paths = a.split(\"/\")\n",
    "    b_paths = b.split(\"/\")\n",
    "    \n",
    "    index = 0\n",
    "    both_paths = []\n",
    "    while (a_paths[index] == b_paths[index]):\n",
    "        both_paths.append(a_paths[index])\n",
    "        index += 1\n",
    "    \n",
    "    \n",
    "    a_relative = a_paths[index:]\n",
    "    b_relative = b_paths[index:]\n",
    "    \n",
    "    a_relative_depth = len(a_relative) - 1\n",
    "    b_a = []\n",
    "    while (a_relative_depth > 0):\n",
    "        b_a.append(\"..\")\n",
    "        a_relative_depth -= 1\n",
    "    \n",
    "    b_a.extend(b_relative)\n",
    "    \n",
    "    return reduce(lambda x, y: x + \"/\" + y, b_a)"
   ]
  },
  {
   "cell_type": "code",
   "execution_count": 46,
   "id": "ambient-living",
   "metadata": {},
   "outputs": [
    {
     "data": {
      "text/plain": [
       "'../../../../1/2/test.c'"
      ]
     },
     "execution_count": 46,
     "metadata": {},
     "output_type": "execute_result"
    }
   ],
   "source": [
    "a = \"/qihoo/app/a/b/c/d/new.c\"\n",
    "b = \"/qihoo/app/1/2/test.c\"\n",
    "relative_path(a, b)"
   ]
  },
  {
   "cell_type": "markdown",
   "id": "bridal-agreement",
   "metadata": {},
   "source": [
    "# 问题3\n",
    "\n",
    "### 描述\n",
    "\n",
    "给定一个字符串，判断它是不是合法的IP地址。\n",
    "\n",
    "### 分析\n",
    "\n",
    "这个问题有两种做法，其一是用正则表达式，其二是分割字符串然后判断。"
   ]
  },
  {
   "cell_type": "code",
   "execution_count": 11,
   "id": "accomplished-witch",
   "metadata": {},
   "outputs": [
    {
     "name": "stdout",
     "output_type": "stream",
     "text": [
      "True\n",
      "False\n",
      "False\n"
     ]
    }
   ],
   "source": [
    "import re\n",
    "\n",
    "def test_ip(ip_strs):\n",
    "    # 用正则表达式, 主要是匹配0～255这个范围\n",
    "    re_0_199 = \"[0,1]?\\d{1,2}\"\n",
    "    re_200_249 = \"2[0-4][0-9]\"\n",
    "    re_250_255 = \"25[0-5]\"\n",
    "    re_200_255 = \"2([0-4][0-9]|5[0-5])\"\n",
    "    re_0_255 = \"(\" + re_0_199 + \"|\" + re_200_255 + \")\"\n",
    "    re_ip = re_0_255 + \"(\\.\" + re_0_255 + \")\" + \"{3}\"\n",
    "        \n",
    "    ipre = re.compile(re_ip)\n",
    "    an = ipre.match(ip_strs)\n",
    "    \n",
    "    return an != None\n",
    "\n",
    "ip_1 = \"183.23.2.2\"\n",
    "ip_2 = \"200.0.1903.2\"\n",
    "ip_3 = \"123.w.32.3\"\n",
    "print(test_ip(ip_1))\n",
    "print(test_ip(ip_2))\n",
    "print(test_ip(ip_3))"
   ]
  },
  {
   "cell_type": "markdown",
   "id": "leading-canada",
   "metadata": {},
   "source": [
    "# 问题4\n",
    "\n",
    "### 描述\n",
    "\n",
    "大数相加\n",
    "\n",
    "### 分析\n",
    "\n",
    "先将大数字按位分割，组成数组，然后从后向前按位相加。在相加的过程中，如果结果大于10，那么记住需要进位，而且还要注意最后一次相加的进位。"
   ]
  },
  {
   "cell_type": "code",
   "execution_count": 33,
   "id": "chemical-ability",
   "metadata": {},
   "outputs": [
    {
     "name": "stdout",
     "output_type": "stream",
     "text": [
      "472\n",
      "4\n",
      "1010\n"
     ]
    }
   ],
   "source": [
    "from functools import reduce\n",
    "\n",
    "def big_add(a, b):\n",
    "    \n",
    "    def int_to_arr(n):\n",
    "        # 将数字转换为按位保存的数组，并制逆序\n",
    "        arr = list(str(n))\n",
    "        arr.reverse()\n",
    "        return [int(x) for x in arr]\n",
    "    \n",
    "    arr_a = int_to_arr(a)\n",
    "    arr_b = int_to_arr(b)\n",
    "    arr_an = []\n",
    "    carry = False\n",
    "    count = max(len(arr_a), len(arr_b))\n",
    "    diff = len(arr_a) - len(arr_b)\n",
    "    \n",
    "    # 让数据位数对齐\n",
    "    if (len(arr_a) > len(arr_b)):\n",
    "        for i in range(diff):\n",
    "            arr_b.append(0)\n",
    "    elif (len(arr_b) > len(arr_a)):\n",
    "        for i in range(-diff):\n",
    "            arr_a.append(0)\n",
    "    \n",
    "    \n",
    "    for i in range(count):\n",
    "        an = arr_a[i] + arr_b[i]\n",
    "        if (carry):\n",
    "            an += 1\n",
    "            \n",
    "        if (an >= 10):\n",
    "            carry = True\n",
    "            an -= 10\n",
    "        else:\n",
    "            carry = False\n",
    "            \n",
    "        arr_an.append(an)\n",
    "    \n",
    "    if (carry):\n",
    "        arr_an.append(1)\n",
    "        \n",
    "    arr_an.reverse()\n",
    "    arr_str_an = [str(x) for x in arr_an]\n",
    "    str_an = reduce(lambda x,y: str(x)+str(y), arr_str_an)\n",
    "    \n",
    "    return int(str_an)\n",
    "\n",
    "print((big_add(149, 323)))\n",
    "print(big_add(1, 3))\n",
    "print(big_add(1000, 10))"
   ]
  },
  {
   "cell_type": "markdown",
   "id": "scenic-plasma",
   "metadata": {},
   "source": [
    "#  问题5\n",
    "### 描述\n",
    "将一个n元一维向量向左旋转i个位置。例如，当n=8且i=3时，向量abcdefgh旋转为defghabc。\n",
    "### 分析\n",
    "更加高效的算法是先将前i个元素置逆，然后将剩下的置逆，合并在一起，再做一次置逆。"
   ]
  },
  {
   "cell_type": "code",
   "execution_count": 51,
   "id": "popular-adelaide",
   "metadata": {},
   "outputs": [
    {
     "data": {
      "text/plain": [
       "'defgabc'"
      ]
     },
     "execution_count": 51,
     "metadata": {},
     "output_type": "execute_result"
    }
   ],
   "source": [
    "from functools import reduce\n",
    "\n",
    "def rotate(s, i):\n",
    "    list_s = list(s)\n",
    "    n = len(list_s)\n",
    "    \n",
    "    # if i > n\n",
    "    i = i % n\n",
    "    left = list_s[:i]\n",
    "    left.reverse()\n",
    "    right = list_s[i:]\n",
    "    right.reverse()\n",
    "    re_rl = left + right\n",
    "    \n",
    "    re_rl.reverse()\n",
    "    \n",
    "    return reduce(lambda x, y: x + y, re_rl)\n",
    "\n",
    "rotate(\"abcdefg\", 3)"
   ]
  },
  {
   "cell_type": "markdown",
   "id": "massive-fundamental",
   "metadata": {},
   "source": [
    "# 问题6\n",
    "### 描述\n",
    "在一个包含负数的向量中，求最大子向量和。\n",
    "### 分析\n",
    "常规的做法是枚举出n*(n-1)/2种可能性，然后算出最大值，这种方法低效。如果所有元素为负数，那么最大子向量和就为0，相反如果所有元素为正数，那么最大子向量和就为所有元素的和。所以，如果当前元素是负数，那么久要考虑是否将其纳入最终的子向量。很明显，如果【当前元素】+【之前子向量和】变成一个负数，那么【当前元素】不应该纳入最大子向量，而应该从下一个元素开始，重新计算。这样算到最后便可以得出最大子向量和。"
   ]
  },
  {
   "cell_type": "code",
   "execution_count": 54,
   "id": "vulnerable-columbus",
   "metadata": {},
   "outputs": [
    {
     "data": {
      "text/plain": [
       "187"
      ]
     },
     "execution_count": 54,
     "metadata": {},
     "output_type": "execute_result"
    }
   ],
   "source": [
    "def max_sum(vec):\n",
    "    max_so_far = 0\n",
    "    max_sf_here = 0\n",
    "    for i in range(len(vec)):\n",
    "        max_sf_here += vec[i]\n",
    "        max_sf_here = max(max_sf_here, 0)\n",
    "        max_so_far = max(max_so_far, max_sf_here)\n",
    "    return max_so_far\n",
    "\n",
    "max_sum([31, -41, 59, 26, -53, 58, 97, -93, -23, 84])"
   ]
  },
  {
   "cell_type": "code",
   "execution_count": null,
   "id": "great-reader",
   "metadata": {},
   "outputs": [],
   "source": []
  }
 ],
 "metadata": {
  "kernelspec": {
   "display_name": "Python 3",
   "language": "python",
   "name": "python3"
  },
  "language_info": {
   "codemirror_mode": {
    "name": "ipython",
    "version": 3
   },
   "file_extension": ".py",
   "mimetype": "text/x-python",
   "name": "python",
   "nbconvert_exporter": "python",
   "pygments_lexer": "ipython3",
   "version": "3.8.2"
  }
 },
 "nbformat": 4,
 "nbformat_minor": 5
}
